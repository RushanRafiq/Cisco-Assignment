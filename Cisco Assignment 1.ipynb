{
 "cells": [
  {
   "cell_type": "code",
   "execution_count": 1,
   "metadata": {},
   "outputs": [
    {
     "name": "stdout",
     "output_type": "stream",
     "text": [
      "Cisco Assignment 1\n",
      "Rushan Rafiq\n",
      "Question 1\n",
      "Twinkle, twinkle, little star,\n",
      "\tHow I wonder what you are!\n",
      "\t\tUp above the world so high,\n",
      "\t\tLike a diamond in the sky.\n",
      "Twinkle, twinkle, little star,\n",
      "\tHow I wonder what you are\n"
     ]
    }
   ],
   "source": [
    "print(\"Cisco Assignment 1\")\n",
    "print('Rushan Rafiq')\n",
    "print('Question 1')\n",
    "print('Twinkle, twinkle, little star,\\n\\t\\\n",
    "How I wonder what you are!\\n\\t\\t\\\n",
    "Up above the world so high,\\n\\t\\t\\\n",
    "Like a diamond in the sky.\\nTwinkle, twinkle, little star,\\n\\t\\\n",
    "How I wonder what you are')"
   ]
  },
  {
   "cell_type": "code",
   "execution_count": 2,
   "metadata": {},
   "outputs": [
    {
     "name": "stdout",
     "output_type": "stream",
     "text": [
      "Question 2\n",
      "Python version\n",
      "3.7.0 (default, Aug 14 2018, 19:12:50) [MSC v.1900 32 bit (Intel)]\n"
     ]
    }
   ],
   "source": [
    "print('Question 2')\n",
    "import sys\n",
    "print(\"Python version\")\n",
    "print (sys.version)"
   ]
  },
  {
   "cell_type": "code",
   "execution_count": 3,
   "metadata": {},
   "outputs": [
    {
     "name": "stdout",
     "output_type": "stream",
     "text": [
      "Question 3\n",
      "2019-11-03 14:37:25.335201\n"
     ]
    }
   ],
   "source": [
    "print(\"Question 3\")\n",
    "import datetime\n",
    "Date = datetime.datetime.now()\n",
    "print(Date)"
   ]
  },
  {
   "cell_type": "code",
   "execution_count": 4,
   "metadata": {},
   "outputs": [
    {
     "name": "stdout",
     "output_type": "stream",
     "text": [
      "Question 4\n",
      "Enter radius of the circle of whose area is to be calculated: 3\n",
      "The Area of Circle is:  28.274333882308138\n"
     ]
    }
   ],
   "source": [
    "print(\"Question 4\")\n",
    "from math import pi\n",
    "try:\n",
    "    radius= int(input('Enter radius of the circle of whose area is to be calculated: '))\n",
    "    A=pi*(radius**2)\n",
    "    print(\"The Area of Circle is: \",A)\n",
    "except ValueError:\n",
    "    print(\"Please give integer value..!\")"
   ]
  },
  {
   "cell_type": "code",
   "execution_count": 5,
   "metadata": {},
   "outputs": [
    {
     "name": "stdout",
     "output_type": "stream",
     "text": [
      "Question 5\n",
      "Enter your First Name: Rushan\n",
      "Enter your Last Name: Rafiq\n",
      "Hey! Rafiq   Rushan\n"
     ]
    }
   ],
   "source": [
    "print(\"Question 5\")\n",
    "f_name=(input('Enter your First Name: '))\n",
    "l_name=str(input('Enter your Last Name: '))\n",
    "print('Hey!',l_name,' ',f_name)"
   ]
  },
  {
   "cell_type": "code",
   "execution_count": 6,
   "metadata": {},
   "outputs": [
    {
     "name": "stdout",
     "output_type": "stream",
     "text": [
      "Question 6\n",
      "Enter first num: 3\n",
      "Enter second num: 4\n",
      "Addition of two numbers will be:  7\n"
     ]
    }
   ],
   "source": [
    "print('Question 6')\n",
    "try:\n",
    "    num1=int(input(\"Enter first num: \"))\n",
    "    num2=int(input(\"Enter second num: \"))\n",
    "    print('Addition of two numbers will be: ',num1+num2)\n",
    "except ValueError:\n",
    "    print('Invalid Command!')"
   ]
  },
  {
   "cell_type": "code",
   "execution_count": null,
   "metadata": {},
   "outputs": [],
   "source": []
  }
 ],
 "metadata": {
  "kernelspec": {
   "display_name": "Python 3",
   "language": "python",
   "name": "python3"
  },
  "language_info": {
   "codemirror_mode": {
    "name": "ipython",
    "version": 3
   },
   "file_extension": ".py",
   "mimetype": "text/x-python",
   "name": "python",
   "nbconvert_exporter": "python",
   "pygments_lexer": "ipython3",
   "version": "3.7.0"
  }
 },
 "nbformat": 4,
 "nbformat_minor": 2
}
